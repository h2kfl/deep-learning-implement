{
 "cells": [
  {
   "cell_type": "code",
   "execution_count": null,
   "metadata": {
    "scrolled": false
   },
   "outputs": [],
   "source": [
    "from keras.models import Sequential # 케라스의 Sequential()을 임포트\n",
    "from keras.layers import Dense      # 케라스의 Dense()를 임포트\n",
    "from keras import optimizers        # 케라스의 옵티마이저를 임포트\n",
    "import numpy as np # Numpy를 임포트\n",
    "import matplotlib.pyplot as plt\n",
    "\n",
    "X=np.array([1,2,3,4,5]) \n",
    "Y=np.array([1,2,3,4,5]) \n",
    "\n",
    "model=Sequential()\n",
    "model.add(Dense(1, input_dim=1, activation='linear'))\n",
    "sgd=optimizers.SGD(lr=0.01)\n",
    "model.compile(optimizer=sgd ,loss='mse',metrics=['accuracy'])\n",
    "model.fit(X,Y, batch_size=1, epochs=100, shuffle=False)\n",
    "\n",
    "print(model.predict(X))\n",
    "plt.plot(X, Y, 'bo')\n",
    "plt.plot(X, model.predict(X), 'r-')\n",
    "plt.show()"
   ]
  },
  {
   "cell_type": "code",
   "execution_count": null,
   "metadata": {},
   "outputs": [],
   "source": [
    "import numpy as np   # numeriacal computing\n",
    "import matplotlib.pyplot as plt  # plotting core\n",
    "\n",
    "x = np.array([1,2,3])\n",
    "y = np.array([1,2,3])\n",
    "print(x.ndim)\n",
    "print(x.shape)\n",
    "print(x.shape[0]) # 배열의 원소를 세는법\n",
    "print(len(x))  # 배열의 원소를 세는법\n",
    "\n",
    "plt.plot(x,y, 'r--' )\n",
    "plt.plot(x,y, 'o' )\n",
    "\n",
    "plt.grid(True)\n",
    "plt.show()"
   ]
  },
  {
   "cell_type": "code",
   "execution_count": null,
   "metadata": {},
   "outputs": [],
   "source": [
    "import numpy as np   # numeriacal computing\n",
    "import matplotlib.pyplot as plt  # plotting core\n",
    "\n",
    "x = np.array([1,2,3])\n",
    "y = np.array([1,2,3])\n",
    "\n",
    "w = 1\n",
    "b = 1\n",
    "\n",
    "y_hat = np.zeros(3)\n",
    "print(y_hat)\n",
    "print(len(x))\n",
    "print(x.shape[0])\n",
    "\n",
    "for i in range(len(x)):\n",
    "    y_hat[i] = w*x[i] + b;\n",
    "print(y_hat)\n",
    "\n",
    "plt.plot(x,y, 'o' )\n",
    "plt.plot(x,y, 'r-' )\n",
    "\n",
    "plt.plot(x,y_hat, 'o' )\n",
    "plt.plot(x,y_hat, 'b-' )\n",
    "\n",
    "plt.grid(True)\n",
    "plt.show()\n",
    "\n"
   ]
  },
  {
   "cell_type": "code",
   "execution_count": null,
   "metadata": {},
   "outputs": [],
   "source": [
    "import numpy as np   # numeriacal computing\n",
    "import matplotlib.pyplot as plt  # plotting core\n",
    "\n",
    "w = np.linspace(-1,3,100)\n",
    "# print(w)\n",
    "# print(len(w))\n",
    "b = 0\n",
    "\n",
    "j = np.zeros(100)\n",
    "# print(j)\n",
    "for i in range(len(w)):\n",
    "    y_hat = w[i]*2 + b;\n",
    "    j[i] = 0.5 * (y_hat - 2)**2\n",
    "\n",
    "plt.plot(w,j, 'o' )\n",
    "plt.plot(w,j, 'r-' )\n",
    "\n",
    "plt.grid(True)\n",
    "plt.show()\n",
    "\n"
   ]
  },
  {
   "cell_type": "code",
   "execution_count": null,
   "metadata": {},
   "outputs": [],
   "source": [
    "import numpy as np   # numeriacal computing\n",
    "import matplotlib.pyplot as plt  # plotting core\n",
    "\n",
    "w = 1\n",
    "b = np.linspace(-3,3,100)\n",
    "\n",
    "j = np.zeros(100)\n",
    "for i in range(len(b)):\n",
    "    y_hat = w*2 + b[i];\n",
    "    j[i] = 0.5 * (y_hat - 2)**2\n",
    "\n",
    "plt.plot(b,j, 'o' )\n",
    "plt.plot(b,j, 'r-' )\n",
    "\n",
    "plt.grid(True)\n",
    "plt.show()\n",
    "\n"
   ]
  },
  {
   "cell_type": "code",
   "execution_count": null,
   "metadata": {
    "scrolled": true
   },
   "outputs": [],
   "source": [
    "import numpy as np   # numeriacal computing\n",
    "import matplotlib.pyplot as plt  # plotting core\n",
    "\n",
    "# simple function to demo step size\n",
    "def f(x) : # A parabola\n",
    "    f = 0.5*(x*2-2)**2\n",
    "    return f\n",
    "def Df(x) : # The derivative (gradient)\n",
    "    Df = 2*(x*2-2)\n",
    "    return Df\n",
    "def xp1(x,alpha) : # update\n",
    "    xp1 = x - alpha * Df(x)\n",
    "    return xp1\n",
    "\n",
    "def plot_steps( guess, alpha, nsteps) :\n",
    "    fig, ax = plt.subplots()\n",
    "    x = np.linspace(-1,3,100)\n",
    "    ax.plot(x, f(x))\n",
    "    x = guess\n",
    "    ax.plot(x,f(x), 'o', label='start x=%.2f' %x )\n",
    "    for i in range(nsteps):\n",
    "        xold = x\n",
    "        x = xp1(x,alpha)\n",
    "        #ax.plot(x,f(x), 'o', label='x = %.2f' %x)\n",
    "        ax.plot(x,f(x), 'o')\n",
    "        ax.plot([xold,x],[f(xold),f(x)], '-')\n",
    "    plt.legend()\n",
    "    plt.show()\n",
    "    \n",
    "plot_steps( 3, 0.01, 80 )"
   ]
  },
  {
   "cell_type": "code",
   "execution_count": null,
   "metadata": {
    "scrolled": true
   },
   "outputs": [],
   "source": [
    "import numpy as np   # numeriacal computing\n",
    "import matplotlib.pyplot as plt  # plotting core\n",
    "\n",
    "# simple function to demo step size\n",
    "def f(x) : # A parabola\n",
    "    f = 0.5*x**2\n",
    "    return f\n",
    "def Df(x) : # The derivative (gradient)\n",
    "    Df = x*2\n",
    "    return Df\n",
    "def xp1(x,alpha) : # update\n",
    "    xp1 = x - alpha * Df(x)\n",
    "    return xp1\n",
    "\n",
    "def plot_steps( guess, alpha, nsteps) :\n",
    "    fig, ax = plt.subplots()\n",
    "    x = np.linspace(-3,3,100)\n",
    "    ax.plot(x, f(x))\n",
    "    x = guess\n",
    "    ax.plot(x,f(x), 'o', label='start x=%.2f' %x )\n",
    "    for i in range(nsteps):\n",
    "        xold = x\n",
    "        x = xp1(x,alpha)\n",
    "        #ax.plot(x,f(x), 'o', label='x = %.2f' %x)\n",
    "        ax.plot(x,f(x), 'o')\n",
    "        ax.plot([xold,x],[f(xold),f(x)], '-')\n",
    "    plt.legend()\n",
    "    plt.show()\n",
    "    \n",
    "plot_steps( 3, 0.03, 80 )\n"
   ]
  },
  {
   "cell_type": "code",
   "execution_count": null,
   "metadata": {},
   "outputs": [],
   "source": [
    "import matplotlib.pyplot as plt\n",
    "import numpy as np\n",
    "\n",
    "a0 = np.linspace(1,5,5)\n",
    "# print(a0)\n",
    "a1 = np.linspace(1,5,5)\n",
    "# print(a1)\n",
    "# plt.plot(a0, a1)\n",
    "aa0, aa1 = np.meshgrid(a0, a1)\n",
    "print(aa0)\n",
    "print(aa1)\n",
    "plt.plot(aa0, aa1 , 'o')"
   ]
  },
  {
   "cell_type": "code",
   "execution_count": null,
   "metadata": {
    "scrolled": true
   },
   "outputs": [],
   "source": [
    "import matplotlib.pyplot as plt\n",
    "import numpy as np\n",
    "\n",
    "# The function J\n",
    "def J(a0, a1, x, y, m):\n",
    "    ret=0\n",
    "    for i in range(m):\n",
    "        ret += 0.5*((a0 + a1*x[i]) - y[i] )**2\n",
    "    return ret/m\n",
    "\n",
    "x = np.linspace(-1,1,5)\n",
    "y = x\n",
    "\n",
    "#y = np.array([0.21378624, 1.97217916, 2.36737375, 5.13718724, 6.26470731])\n",
    "a0 = np.linspace(-3,3,100)\n",
    "a1 = np.linspace(-3,3,100)\n",
    "aa0, aa1 = np.meshgrid(a0, a1)\n",
    "plt.contour(aa0,aa1,J(aa0,aa1,x,y,m=len(x)) , colors='C0', levels=[i for i in np.arange(0,80,0.3)])\n",
    "plt.show()"
   ]
  },
  {
   "cell_type": "code",
   "execution_count": null,
   "metadata": {},
   "outputs": [],
   "source": [
    "import matplotlib.pyplot as plt\n",
    "import numpy as np\n",
    "from mpl_toolkits.mplot3d.axes3d import Axes3D\n",
    "\n",
    "fig = plt.figure()\n",
    "ax = fig.add_subplot(1,1,1,projection='3d')\n",
    "\n",
    "def pprint(arr):\n",
    "    print(\"type:{}\".format(type(arr)))\n",
    "    print(\"shape: {}, dimension: {}, dtype:{}\".format(arr.shape, arr.ndim, arr.dtype))\n",
    "    print(\"Array's Data:\\n\", arr)\n",
    "\n",
    "# The function J\n",
    "def J(a0, a1, x, y, m):\n",
    "    ret=0\n",
    "    for i in range(m):\n",
    "        ret += 0.5*((a0 + a1*x[i]) - y[i] )**2\n",
    "    return ret/m\n",
    "\n",
    "x = np.linspace(-1,1,5)\n",
    "y = x\n",
    "#y = np.array([0.21378624, 1.97217916, 2.36737375, 5.13718724, 6.26470731])\n",
    "a0 = np.linspace(-3,3,100)\n",
    "a1 = np.linspace(-3,3,100)\n",
    "\n",
    "#pprint(x)\n",
    "#pprint(y)\n",
    "#pprint(a0)\n",
    "\n",
    "#plt.plot(a1, J(a0,a1,x,y,m=len(x)) ) # set a0 to 0.1\n",
    "aa0, aa1 = np.meshgrid(a0, a1)\n",
    "ax.plot_surface(aa0, aa1, J(aa0,aa1,x,y,m=len(x)))\n",
    "\n",
    "plt.show()"
   ]
  },
  {
   "cell_type": "code",
   "execution_count": null,
   "metadata": {},
   "outputs": [],
   "source": [
    "from sklearn.datasets import load_diabetes\n",
    "diabetes = load_diabetes()\n",
    "import matplotlib.pyplot as plt\n",
    "# print(diabetes)\n",
    "# print(diabetes.data.shape)\n",
    "# print(diabetes.target.shape)\n",
    "x = diabetes.data[:, 2]\n",
    "# print(x)\n",
    "y = diabetes.target\n",
    "\n",
    "plt.scatter(x, y)\n",
    "plt.xlabel('x')\n",
    "plt.ylabel('y')\n",
    "plt.show()"
   ]
  },
  {
   "cell_type": "code",
   "execution_count": null,
   "metadata": {},
   "outputs": [],
   "source": [
    "w = 1.0\n",
    "b = 1.0\n",
    "for x_i, y_i in zip(x, y):\n",
    "    y_hat = x_i * w + b\n",
    "    err = y_hat - y_i\n",
    "    w_rate = x_i\n",
    "    w = w - w_rate * err\n",
    "    b = b - 1 * err\n",
    "\n",
    "plt.scatter(x, y)\n",
    "pt1 = (-0.1, -0.1 * w + b)\n",
    "pt2 = (0.15, 0.15 * w + b)\n",
    "plt.plot([pt1[0], pt2[0]], [pt1[1], pt2[1]], 'r-')\n",
    "plt.xlabel('x')\n",
    "plt.ylabel('y')\n",
    "plt.show()"
   ]
  },
  {
   "cell_type": "code",
   "execution_count": 101,
   "metadata": {},
   "outputs": [
    {
     "data": {
      "image/png": "[encoded data removed]",
      "text/plain": [
       "<Figure size 432x288 with 1 Axes>"
      ]
     },
     "metadata": {
      "needs_background": "light"
     },
     "output_type": "display_data"
    }
   ],
   "source": [
    "for i in range(1, 100):\n",
    "    for x_i, y_i in zip(x, y):\n",
    "        y_hat = x_i * w + b\n",
    "        err = y_i - y_hat\n",
    "        w_rate = x_i\n",
    "        w = w + w_rate * err\n",
    "        b = b + 1 * err\n",
    "plt.scatter(x, y)\n",
    "pt1 = (-0.1, -0.1 * w + b)\n",
    "pt2 = (0.15, 0.15 * w + b)\n",
    "plt.plot([pt1[0], pt2[0]], [pt1[1], pt2[1]], 'r-')\n",
    "plt.xlabel('x')\n",
    "plt.ylabel('y')\n",
    "plt.show()"
   ]
  },
  {
   "cell_type": "markdown",
   "metadata": {},
   "source": [
    "#### 값 예측하기"
   ]
  },
  {
   "cell_type": "code",
   "execution_count": 102,
   "metadata": {},
   "outputs": [
    {
     "name": "stdout",
     "output_type": "stream",
     "text": [
      "287.8416643899983\n"
     ]
    }
   ],
   "source": [
    "x_new = 0.18\n",
    "y_pred = x_new * w + b\n",
    "print(y_pred)"
   ]
  },
  {
   "cell_type": "code",
   "execution_count": 103,
   "metadata": {
    "scrolled": true
   },
   "outputs": [
    {
     "data": {
      "image/png": "[encoded data removed]",
      "text/plain": [
       "<Figure size 432x288 with 1 Axes>"
      ]
     },
     "metadata": {
      "needs_background": "light"
     },
     "output_type": "display_data"
    }
   ],
   "source": [
    "plt.scatter(x, y)\n",
    "plt.scatter(x_new, y_pred)\n",
    "plt.xlabel('x')\n",
    "plt.ylabel('y')\n",
    "plt.show()"
   ]
  },
  {
   "cell_type": "markdown",
   "metadata": {},
   "source": [
    "#### 뉴런으로 만들기"
   ]
  },
  {
   "cell_type": "code",
   "execution_count": 105,
   "metadata": {},
   "outputs": [
    {
     "data": {
      "image/png": "[encoded data removed]",
      "text/plain": [
       "<Figure size 432x288 with 1 Axes>"
      ]
     },
     "metadata": {
      "needs_background": "light"
     },
     "output_type": "display_data"
    }
   ],
   "source": [
    "class Neuron:\n",
    "    \n",
    "    def __init__(self):\n",
    "        self.w = 1.0     # 가중치를 초기화합니다\n",
    "        self.b = 1.0     # 절편을 초기화합니다\n",
    "    \n",
    "    def forpass(self, x):\n",
    "        y_hat = x * self.w + self.b       # 직선 방정식을 계산합니다\n",
    "        return y_hat\n",
    "    \n",
    "    def backprop(self, x, err):\n",
    "        w_grad = x * err    # 가중치에 대한 그래디언트를 계산합니다\n",
    "        b_grad = 1 * err    # 절편에 대한 그래디언트를 계산합니다\n",
    "        return w_grad, b_grad\n",
    "\n",
    "    def fit(self, x, y, epochs=100, rate=0.01):\n",
    "        for i in range(epochs):           # 에포크만큼 반복합니다\n",
    "            for x_i, y_i in zip(x, y):    # 모든 샘플에 대해 반복합니다\n",
    "                y_hat = self.forpass(x_i) # 정방향 계산\n",
    "                err = y_hat - y_i      # 오차 계산\n",
    "                w_grad, b_grad = self.backprop(x_i, err)  # 역방향 계산\n",
    "                self.w -= rate*w_grad          # 가중치 업데이트\n",
    "                self.b -= rate*b_grad          # 절편 업데이트\n",
    "                \n",
    "neuron = Neuron()\n",
    "neuron.fit(x, y, 1000)\n",
    "\n",
    "plt.scatter(x, y)\n",
    "pt1 = (-0.1, -0.1 * neuron.w + neuron.b)\n",
    "pt2 = (0.15, 0.15 * neuron.w + neuron.b)\n",
    "plt.plot([pt1[0], pt2[0]], [pt1[1], pt2[1]],'r')\n",
    "plt.xlabel('x')\n",
    "plt.ylabel('y')\n",
    "plt.show()"
   ]
  },
  {
   "cell_type": "code",
   "execution_count": null,
   "metadata": {},
   "outputs": [],
   "source": []
  }
 ],
 "metadata": {
  "kernelspec": {
   "display_name": "Python 3",
   "language": "python",
   "name": "python3"
  },
  "language_info": {
   "codemirror_mode": {
    "name": "ipython",
    "version": 3
   },
   "file_extension": ".py",
   "mimetype": "text/x-python",
   "name": "python",
   "nbconvert_exporter": "python",
   "pygments_lexer": "ipython3",
   "version": "3.8.3"
  }
 },
 "nbformat": 4,
 "nbformat_minor": 4
}
